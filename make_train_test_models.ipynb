{
 "cells": [
  {
   "attachments": {},
   "cell_type": "markdown",
   "metadata": {},
   "source": [
    "Jupyter notebook is useful as we can keep datasets in memory between training runs"
   ]
  },
  {
   "attachments": {},
   "cell_type": "markdown",
   "metadata": {},
   "source": [
    "## Load datasets:"
   ]
  },
  {
   "cell_type": "code",
   "execution_count": 72,
   "metadata": {},
   "outputs": [
    {
     "name": "stdout",
     "output_type": "stream",
     "text": [
      "The autoreload extension is already loaded. To reload it, use:\n",
      "  %reload_ext autoreload\n",
      "Reading and processing 500 files from C:\\Users\\jckpn\\Documents\\YEAR 3 PROJECT\\implementation\\source\\other\\imdb_crop into memory...\n"
     ]
    },
    {
     "name": "stderr",
     "output_type": "stream",
     "text": [
      "  0%|          | 0/500 [00:00<?, ?it/s]"
     ]
    },
    {
     "name": "stdout",
     "output_type": "stream",
     "text": [
      "Equalising - 250 entries per class (2 classes)\n"
     ]
    },
    {
     "name": "stderr",
     "output_type": "stream",
     "text": [
      "                                                 "
     ]
    },
    {
     "name": "stdout",
     "output_type": "stream",
     "text": [
      "\n",
      "500 items successfully prepared\n",
      "Equalised datset to 250 images per class\n",
      "{'0': 251, '1': 249}\n",
      "\n",
      "Split dataset into 400 training and 100 validation examples\n"
     ]
    },
    {
     "name": "stderr",
     "output_type": "stream",
     "text": [
      "\r"
     ]
    }
   ],
   "source": [
    "# Cite this\n",
    "%load_ext autoreload\n",
    "%autoreload 2\n",
    "\n",
    "# Cite this\n",
    "import sys\n",
    "sys.path.insert(0, 'age-gender-cnn')\n",
    "\n",
    "from train import train_model\n",
    "from torch.utils.data import random_split, ConcatDataset\n",
    "from torch.nn import CrossEntropyLoss, MSELoss\n",
    "from face_dataset import *\n",
    "from label_funcs import *\n",
    "import preprocessor\n",
    "from ds_transforms import *\n",
    "from networks import *\n",
    "import tests\n",
    "from augmentations import get_augs\n",
    "\n",
    "# Define dataset parameters\n",
    "ds_size = 5000\n",
    "processor = preprocessor.process(crop='mid', size=84)\n",
    "transform = alexnet_transform(84)\n",
    "print_errors = False\n",
    "\n",
    "imdb_gender_ds = EqMemoryDataset(\n",
    "    'C:\\\\Users\\\\jckpn\\\\Documents\\\\YEAR 3 PROJECT\\\\implementation\\\\source\\\\other\\\\imdb_crop',\n",
    "    label_func=class_age_label(2), transform=transform, processor=processor,\n",
    "    ds_size=ds_size, print_errors=print_errors)\n",
    "\n",
    "train_val_set = imdb_gender_ds#ConcatDataset([wiki_gender_ds, imdb_gender_ds, utkface_gender_ds])\n",
    "\n",
    "# Split dataset into training and validation sets\n",
    "val_split_ratio = 0.2\n",
    "val_size = int(val_split_ratio * len(train_val_set))\n",
    "train_size = len(train_val_set) - val_size\n",
    "train_set, val_set = random_split(train_val_set, [train_size, val_size])\n",
    "print(f'Split dataset into {len(train_set)} training and {len(val_set)} validation examples')\n",
    "\n",
    "test_set = val_set\n",
    "\n"
   ]
  },
  {
   "attachments": {},
   "cell_type": "markdown",
   "metadata": {},
   "source": [
    "## Train desired models:"
   ]
  },
  {
   "cell_type": "code",
   "execution_count": 74,
   "metadata": {},
   "outputs": [
    {
     "name": "stderr",
     "output_type": "stream",
     "text": [
      "c:\\Users\\jckpn\\anaconda3\\envs\\fyp\\lib\\site-packages\\torch\\nn\\modules\\lazy.py:180: UserWarning: Lazy modules are a new feature under heavy development so changes to the API or functionality can happen at any moment.\n",
      "  warnings.warn('Lazy modules are a new feature under heavy development '\n"
     ]
    },
    {
     "ename": "NameError",
     "evalue": "name 'get_augs' is not defined",
     "output_type": "error",
     "traceback": [
      "\u001b[1;31m---------------------------------------------------------------------------\u001b[0m",
      "\u001b[1;31mNameError\u001b[0m                                 Traceback (most recent call last)",
      "Cell \u001b[1;32mIn[74], line 6\u001b[0m\n\u001b[0;32m      1\u001b[0m model \u001b[39m=\u001b[39m train_model(\n\u001b[0;32m      2\u001b[0m     model\u001b[39m=\u001b[39mLeNet(\u001b[39m2\u001b[39m), \n\u001b[0;32m      3\u001b[0m     train_set\u001b[39m=\u001b[39mtrain_set,\n\u001b[0;32m      4\u001b[0m     val_set\u001b[39m=\u001b[39mval_set,\n\u001b[0;32m      5\u001b[0m     image_resize\u001b[39m=\u001b[39m\u001b[39m224\u001b[39m,\n\u001b[1;32m----> 6\u001b[0m     aug_transform\u001b[39m=\u001b[39mget_augs(),\n\u001b[0;32m      7\u001b[0m     optim_fn\u001b[39m=\u001b[39mtorch\u001b[39m.\u001b[39moptim\u001b[39m.\u001b[39mAdam,\n\u001b[0;32m      8\u001b[0m     learning_rate\u001b[39m=\u001b[39m\u001b[39m0.0001\u001b[39m,\n\u001b[0;32m      9\u001b[0m     patience\u001b[39m=\u001b[39m\u001b[39m5\u001b[39m,\n\u001b[0;32m     10\u001b[0m     max_epochs\u001b[39m=\u001b[39m\u001b[39m30\u001b[39m,\n\u001b[0;32m     11\u001b[0m     model_save_dir\u001b[39m=\u001b[39m\u001b[39m'\u001b[39m\u001b[39m./models\u001b[39m\u001b[39m'\u001b[39m)\n\u001b[0;32m     13\u001b[0m tests\u001b[39m.\u001b[39mconfusion_matrix(model, val_set, image_resize\u001b[39m=\u001b[39m\u001b[39m224\u001b[39m)\n",
      "\u001b[1;31mNameError\u001b[0m: name 'get_augs' is not defined"
     ]
    }
   ],
   "source": [
    "model = train_model(\n",
    "    model=AlexNet(2), \n",
    "    train_set=train_set,\n",
    "    val_set=val_set,\n",
    "    image_resize=224,\n",
    "    aug_transform=get_augs(),\n",
    "    optim_fn=torch.optim.Adam,\n",
    "    learning_rate=0.0001,\n",
    "    patience=5,\n",
    "    max_epochs=30,\n",
    "    model_save_dir='./models')\n",
    "\n",
    "tests.confusion_matrix(model, val_set, image_resize=224)"
   ]
  },
  {
   "cell_type": "code",
   "execution_count": null,
   "metadata": {},
   "outputs": [],
   "source": []
  }
 ],
 "metadata": {
  "kernelspec": {
   "display_name": "fyp",
   "language": "python",
   "name": "python3"
  },
  "language_info": {
   "codemirror_mode": {
    "name": "ipython",
    "version": 3
   },
   "file_extension": ".py",
   "mimetype": "text/x-python",
   "name": "python",
   "nbconvert_exporter": "python",
   "pygments_lexer": "ipython3",
   "version": "3.10.10"
  },
  "orig_nbformat": 4
 },
 "nbformat": 4,
 "nbformat_minor": 2
}
