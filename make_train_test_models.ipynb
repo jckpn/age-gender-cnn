{
 "cells": [
  {
   "attachments": {},
   "cell_type": "markdown",
   "metadata": {},
   "source": [
    "Jupyter notebook is useful as we can keep datasets in memory between training runs"
   ]
  },
  {
   "attachments": {},
   "cell_type": "markdown",
   "metadata": {},
   "source": [
    "## Load datasets:"
   ]
  },
  {
   "cell_type": "code",
   "execution_count": 10,
   "metadata": {},
   "outputs": [],
   "source": [
    "# Don't cache my other files https://stackoverflow.com/a/57245926\n",
    "%reload_ext autoreload\n",
    "%autoreload 2\n",
    "\n",
    "from train import train_model\n",
    "from torch.utils.data import random_split, ConcatDataset\n",
    "from face_dataset import *\n",
    "from label_funcs import *\n",
    "import preprocessor\n",
    "from ds_transforms import *\n",
    "\n",
    "# Define dataset parameters\n",
    "ds_size = 6667\n",
    "equalise = False\n",
    "processor = preprocessor.processor(w=84, h=84)\n",
    "transform = lenet_transform(size=84)\n",
    "classes = 100\n",
    "equlalise = False\n",
    "augment = False\n",
    "print_errors = False\n",
    "\n",
    "# adience_gender_ds = SlowDataset(\n",
    "#     'C:\\\\Users\\\\jckpn\\\\Documents\\\\YEAR 3 PROJECT\\\\implementation\\\\source\\\\datasets\\\\training\\\\adience',\n",
    "#     age_label_all, transform, processor, ds_size=50, equalise=True, classes=2, augment=False, print_errors=False)\n",
    "\n",
    "# imdb_gender_ds = FastDataset(\n",
    "#     'C:\\\\Users\\\\jckpn\\\\Documents\\\\YEAR 3 PROJECT\\\\implementation\\\\source\\\\other\\\\imdb_crop',\n",
    "#     age_label_all, transform, processor, ds_size, print_errors, equalise=equalise, augment=augment, classes=classes)\n",
    "\n",
    "# wiki_gender_ds = FastDataset(\n",
    "#     'C:\\\\Users\\\\jckpn\\\\Documents\\\\YEAR 3 PROJECT\\\\implementation\\\\source\\\\datasets\\\\training\\\\raw_imdbwiki_crop\\\\wiki_crop',\n",
    "#     age_label_all, transform, processor, ds_size, print_errors, equalise=equalise, augment=augment, classes=classes)\n",
    "\n",
    "# utkface_gender_ds = FastDataset(\n",
    "#     'C:\\\\Users\\\\jckpn\\\\Documents\\\\YEAR 3 PROJECT\\\\implementation\\\\source\\\\utkface_itw',\n",
    "#     age_label_all, transform, processor, ds_size, print_errors, equalise=equalise, augment=augment, classes=classes)\n",
    "    \n",
    "train_val_set = ConcatDataset([wiki_gender_ds, imdb_gender_ds, utkface_gender_ds])\n",
    "\n",
    "# Split dataset into training and validation sets\n",
    "val_split_ratio = 0.2\n",
    "val_size = int(val_split_ratio * len(train_val_set))\n",
    "train_size = len(train_val_set) - val_size\n",
    "train_set, val_set = random_split(train_val_set, [train_size, val_size])\n",
    "print(f'Split dataset into {len(train_set)} training and {len(val_set)} validation examples')\n",
    "\n",
    "test_set = val_set"
   ]
  },
  {
   "attachments": {},
   "cell_type": "markdown",
   "metadata": {},
   "source": [
    "## Train desired models:"
   ]
  },
  {
   "cell_type": "code",
   "execution_count": 11,
   "metadata": {},
   "outputs": [
    {
     "name": "stdout",
     "output_type": "stream",
     "text": [
      "\n",
      "TRAINING MODEL LeNet-1_2604-1351.pt WITH PARAMS:\n",
      " - Architecture: LeNet\n",
      " - Learning rate: 0.001\n",
      " - Optimizer: SGD\n",
      " - Loss function: MSELoss()\n",
      " - Other notes: None\n",
      "\n",
      "+---------------+---------------+---------------+---------------+---------------+\n",
      "|         EPOCH | EXAMPLES SEEN |    TRAIN LOSS |      VAL LOSS |  ELAPSED TIME |\n",
      "+---------------+---------------+---------------+---------------+---------------+\n"
     ]
    },
    {
     "name": "stderr",
     "output_type": "stream",
     "text": [
      "                                                                  \r"
     ]
    },
    {
     "name": "stdout",
     "output_type": "stream",
     "text": [
      "|             1 |         16001 |        20.608 |        13.827 |          0:41 |\n"
     ]
    },
    {
     "name": "stderr",
     "output_type": "stream",
     "text": [
      "                                                                  \r"
     ]
    },
    {
     "name": "stdout",
     "output_type": "stream",
     "text": [
      "|             2 |         32002 |        13.068 |        12.878 |          1:20 |\n"
     ]
    },
    {
     "name": "stderr",
     "output_type": "stream",
     "text": [
      "                                                                  \r"
     ]
    },
    {
     "name": "stdout",
     "output_type": "stream",
     "text": [
      "|             3 |         48003 |        12.838 |        12.747 |          1:58 |\n"
     ]
    },
    {
     "name": "stderr",
     "output_type": "stream",
     "text": [
      "                                                                  \r"
     ]
    },
    {
     "name": "stdout",
     "output_type": "stream",
     "text": [
      "| *           4 |         64004 |        12.701 |        37.578 |          2:37 |\n"
     ]
    },
    {
     "name": "stderr",
     "output_type": "stream",
     "text": [
      "                                                                  \r"
     ]
    },
    {
     "name": "stdout",
     "output_type": "stream",
     "text": [
      "|             5 |         80005 |        12.583 |        12.690 |          3:19 |\n"
     ]
    },
    {
     "name": "stderr",
     "output_type": "stream",
     "text": [
      "                                                                  \r"
     ]
    },
    {
     "name": "stdout",
     "output_type": "stream",
     "text": [
      "| *           6 |         96006 |        12.450 |        15.225 |          4:03 |\n"
     ]
    },
    {
     "name": "stderr",
     "output_type": "stream",
     "text": [
      "                                                                  \r"
     ]
    },
    {
     "name": "stdout",
     "output_type": "stream",
     "text": [
      "|             7 |        112007 |        12.403 |        12.442 |          4:46 |\n"
     ]
    },
    {
     "name": "stderr",
     "output_type": "stream",
     "text": [
      "                                                                  \r"
     ]
    },
    {
     "name": "stdout",
     "output_type": "stream",
     "text": [
      "| *           8 |        128008 |        12.342 |        12.651 |          5:31 |\n"
     ]
    },
    {
     "name": "stderr",
     "output_type": "stream",
     "text": [
      "                                                                  \r"
     ]
    },
    {
     "name": "stdout",
     "output_type": "stream",
     "text": [
      "| **          9 |        144009 |        12.323 |        12.461 |          6:15 |\n"
     ]
    },
    {
     "name": "stderr",
     "output_type": "stream",
     "text": [
      "                                                                   \r"
     ]
    },
    {
     "name": "stdout",
     "output_type": "stream",
     "text": [
      "|            10 |        160010 |        12.342 |        12.411 |          6:59 |\n"
     ]
    },
    {
     "name": "stderr",
     "output_type": "stream",
     "text": [
      "                                                                   \r"
     ]
    },
    {
     "name": "stdout",
     "output_type": "stream",
     "text": [
      "|            11 |        176011 |        12.300 |        12.385 |          7:42 |\n"
     ]
    },
    {
     "name": "stderr",
     "output_type": "stream",
     "text": [
      "                                                                   \r"
     ]
    },
    {
     "name": "stdout",
     "output_type": "stream",
     "text": [
      "|            12 |        192012 |        12.281 |        12.374 |          8:26 |\n"
     ]
    },
    {
     "name": "stderr",
     "output_type": "stream",
     "text": [
      "                                                                   \r"
     ]
    },
    {
     "name": "stdout",
     "output_type": "stream",
     "text": [
      "|            13 |        208013 |        12.261 |        12.363 |          9:09 |\n"
     ]
    },
    {
     "name": "stderr",
     "output_type": "stream",
     "text": [
      "                                                                   \r"
     ]
    },
    {
     "name": "stdout",
     "output_type": "stream",
     "text": [
      "|            14 |        224014 |        12.230 |        12.356 |          9:56 |\n"
     ]
    },
    {
     "name": "stderr",
     "output_type": "stream",
     "text": [
      "                                                                   \r"
     ]
    },
    {
     "name": "stdout",
     "output_type": "stream",
     "text": [
      "|            15 |        240015 |        12.203 |        12.303 |         10:45 |\n"
     ]
    },
    {
     "name": "stderr",
     "output_type": "stream",
     "text": [
      "                                                                   \r"
     ]
    },
    {
     "name": "stdout",
     "output_type": "stream",
     "text": [
      "| *          16 |        256016 |        12.223 |        12.326 |         11:33 |\n"
     ]
    },
    {
     "name": "stderr",
     "output_type": "stream",
     "text": [
      "                                                           \r"
     ]
    },
    {
     "name": "stdout",
     "output_type": "stream",
     "text": [
      "+---------------+---------------+---------------+---------------+---------------+\n",
      "\n",
      "Halting training - stopped by user\n",
      "\n",
      "Training took 11m 57s (42.0s per epoch)\n",
      "\n",
      "Best model from session saved to '../models\\LeNet-1_2604-1351.pt'\n",
      "\n",
      "Testing model accuracy...\n"
     ]
    },
    {
     "name": "stderr",
     "output_type": "stream",
     "text": [
      "                                                    "
     ]
    },
    {
     "name": "stdout",
     "output_type": "stream",
     "text": [
      "MAE: 16.51\n"
     ]
    },
    {
     "name": "stderr",
     "output_type": "stream",
     "text": [
      "\r"
     ]
    },
    {
     "data": {
      "text/plain": [
       "16.508208142876626"
      ]
     },
     "execution_count": 11,
     "metadata": {},
     "output_type": "execute_result"
    }
   ],
   "source": [
    "\n",
    "from torch.nn import CrossEntropyLoss, MSELoss  # classif. -> CEL, regress. -> MSE\n",
    "from torch.optim import Adam, SGD\n",
    "from networks import *\n",
    "import tests\n",
    "\n",
    "model = train_model(\n",
    "    model=LeNet(1), \n",
    "    train_set=train_set,\n",
    "    val_set=val_set,\n",
    "    loss_fn=MSELoss(),\n",
    "    optim_fn=SGD,\n",
    "    learning_rate=0.01,\n",
    "    model_save_dir='../models')\n",
    "\n",
    "tests.mae(model, test_set, print_results=True)"
   ]
  }
 ],
 "metadata": {
  "kernelspec": {
   "display_name": "fyp",
   "language": "python",
   "name": "python3"
  },
  "language_info": {
   "codemirror_mode": {
    "name": "ipython",
    "version": 3
   },
   "file_extension": ".py",
   "mimetype": "text/x-python",
   "name": "python",
   "nbconvert_exporter": "python",
   "pygments_lexer": "ipython3",
   "version": "3.10.10"
  },
  "orig_nbformat": 4
 },
 "nbformat": 4,
 "nbformat_minor": 2
}
