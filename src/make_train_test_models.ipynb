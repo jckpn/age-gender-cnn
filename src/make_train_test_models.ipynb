{
 "cells": [
  {
   "attachments": {},
   "cell_type": "markdown",
   "metadata": {},
   "source": [
    "Jupyter notebook is used over a regular .py file as we can keep datasets in memory between training runs"
   ]
  },
  {
   "attachments": {},
   "cell_type": "markdown",
   "metadata": {},
   "source": [
    "## Step 0. Import module and dataset files (if using Google Colab)"
   ]
  },
  {
   "cell_type": "code",
   "execution_count": null,
   "metadata": {},
   "outputs": [],
   "source": [
    "# !git clone https://github.com/jckpn/age-gender-cnn\n",
    "\n",
    "# from google.colab import drive\n",
    "# drive.mount('/content/gdrive')\n",
    "\n",
    "# !mkdir datasets\n",
    "# !unzip -q gdrive/MyDrive/wiki_crop.zip -d datasets\n",
    "# !unzip -q gdrive/MyDrive/imdb_crop_clean.zip -d datasets\n",
    "# !unzip -q gdrive/MyDrive/adience.zip -d datasets\n",
    "# !unzip -q gdrive/MyDrive/utkface.zip -d datasets\n",
    "# !echo \"Imported datasets!\""
   ]
  },
  {
   "attachments": {},
   "cell_type": "markdown",
   "metadata": {},
   "source": [
    "## 1. Import other modules"
   ]
  },
  {
   "cell_type": "code",
   "execution_count": 83,
   "metadata": {},
   "outputs": [
    {
     "name": "stdout",
     "output_type": "stream",
     "text": [
      "The autoreload extension is already loaded. To reload it, use:\n",
      "  %reload_ext autoreload\n",
      "Reading and processing 10000 files from C:\\Users\\jckpn\\Documents\\YEAR 3 PROJECT\\implementation\\source\\other\\imdb_crop into memory...\n"
     ]
    },
    {
     "name": "stderr",
     "output_type": "stream",
     "text": [
      "  0%|          | 1/10000 [00:05<14:30:12,  5.22s/it]"
     ]
    },
    {
     "name": "stdout",
     "output_type": "stream",
     "text": [
      "Equalising - 2500 entries per class (4 classes)\n"
     ]
    },
    {
     "name": "stderr",
     "output_type": "stream",
     "text": [
      "                                                     "
     ]
    },
    {
     "name": "stdout",
     "output_type": "stream",
     "text": [
      "\n",
      "10000 items successfully prepared\n",
      "Equalised datset to 2500 images per class\n",
      "{'0': 2501, '1': 2501, '2': 2501, '3': 2497}\n",
      "\n",
      "Split dataset into 8000 training and 2000 validation examples\n"
     ]
    },
    {
     "name": "stderr",
     "output_type": "stream",
     "text": [
      "\r"
     ]
    }
   ],
   "source": [
    "# Cite this\n",
    "%load_ext autoreload\n",
    "%autoreload 2\n",
    "\n",
    "# Cite this\n",
    "import sys\n",
    "sys.path.insert(0, 'age-gender-cnn')\n",
    "\n",
    "from train import train_model\n",
    "from torch.utils.data import random_split, ConcatDataset\n",
    "from torch.nn import CrossEntropyLoss, MSELoss\n",
    "from face_dataset import *\n",
    "from label_funcs import *\n",
    "import preprocessor\n",
    "from ds_transforms import *\n",
    "from networks import *\n",
    "import tests\n",
    "from augmentations import get_augs"
   ]
  },
  {
   "attachments": {},
   "cell_type": "markdown",
   "metadata": {},
   "source": [
    "## 2. Prepare datasets"
   ]
  },
  {
   "cell_type": "code",
   "execution_count": null,
   "metadata": {},
   "outputs": [],
   "source": [
    " Define dataset parameters\n",
    "ds_size = 10000\n",
    "processor = preprocessor.process(crop='mid', size=84)\n",
    "transform = alexnet_transform(84)\n",
    "print_errors = False\n",
    "\n",
    "imdb_gender_ds = EqMemoryDataset(\n",
    "    'C:\\\\Users\\\\jckpn\\\\Documents\\\\YEAR 3 PROJECT\\\\implementation\\\\source\\\\other\\\\imdb_crop',\n",
    "    label_func=class_age_label(4), transform=transform, processor=processor,\n",
    "    ds_size=ds_size, print_errors=print_errors)\n",
    "\n",
    "train_val_set = imdb_gender_ds#ConcatDataset([wiki_gender_ds, imdb_gender_ds, utkface_gender_ds])\n",
    "\n",
    "# Split dataset into training and validation sets\n",
    "val_split_ratio = 0.2\n",
    "val_size = int(val_split_ratio * len(train_val_set))\n",
    "train_size = len(train_val_set) - val_size\n",
    "train_set, val_set = random_split(train_val_set, [train_size, val_size])\n",
    "print(f'Split dataset into {len(train_set)} training and {len(val_set)} validation examples')\n",
    "\n",
    "test_set = val_set\n"
   ]
  },
  {
   "cell_type": "markdown",
   "metadata": {},
   "source": []
  },
  {
   "attachments": {},
   "cell_type": "markdown",
   "metadata": {},
   "source": [
    "## 3. Train model(s)"
   ]
  },
  {
   "cell_type": "code",
   "execution_count": 82,
   "metadata": {},
   "outputs": [
    {
     "name": "stderr",
     "output_type": "stream",
     "text": [
      "c:\\Users\\jckpn\\anaconda3\\envs\\fyp\\lib\\site-packages\\torch\\nn\\modules\\lazy.py:180: UserWarning: Lazy modules are a new feature under heavy development so changes to the API or functionality can happen at any moment.\n",
      "  warnings.warn('Lazy modules are a new feature under heavy development '\n"
     ]
    },
    {
     "name": "stdout",
     "output_type": "stream",
     "text": [
      "\n",
      "TRAINING MODEL LeNet-2_2904-0237.pt WITH PARAMS:\n",
      " - Architecture: LeNet\n",
      " - Learning rate: 0.0001\n",
      " - Optimizer: Adam\n",
      " - Loss function: CrossEntropyLoss()\n",
      " - Other notes: None\n",
      "\n",
      "+---------------+---------------+---------------+---------------+---------------+\n",
      "|         EPOCH | EXAMPLES SEEN |    TRAIN LOSS |      VAL LOSS |  ELAPSED TIME |\n",
      "+---------------+---------------+---------------+---------------+---------------+\n"
     ]
    },
    {
     "name": "stderr",
     "output_type": "stream",
     "text": [
      "                                                        \r"
     ]
    },
    {
     "name": "stdout",
     "output_type": "stream",
     "text": [
      "|             1 |           800 |        0.6943 |        0.6932 |          0:02 |\n"
     ]
    },
    {
     "name": "stderr",
     "output_type": "stream",
     "text": [
      "                                                              \r"
     ]
    },
    {
     "name": "stdout",
     "output_type": "stream",
     "text": [
      "|             2 |          1600 |        0.6931 |        0.6918 |          0:04 |\n"
     ]
    },
    {
     "name": "stderr",
     "output_type": "stream",
     "text": [
      "                                                        \r"
     ]
    },
    {
     "name": "stdout",
     "output_type": "stream",
     "text": [
      "|             3 |          2400 |        0.6914 |         0.691 |          0:05 |\n"
     ]
    },
    {
     "name": "stderr",
     "output_type": "stream",
     "text": [
      "                                                        \r"
     ]
    },
    {
     "name": "stdout",
     "output_type": "stream",
     "text": [
      "| *           4 |          3200 |        0.6911 |        0.6915 |          0:07 |\n"
     ]
    },
    {
     "name": "stderr",
     "output_type": "stream",
     "text": [
      "                                                              \r"
     ]
    },
    {
     "name": "stdout",
     "output_type": "stream",
     "text": [
      "| **          5 |          4000 |        0.6888 |        0.6917 |          0:08 |\n"
     ]
    },
    {
     "name": "stderr",
     "output_type": "stream",
     "text": [
      "                                                        \r"
     ]
    },
    {
     "name": "stdout",
     "output_type": "stream",
     "text": [
      "|             6 |          4800 |         0.686 |         0.685 |          0:10 |\n"
     ]
    },
    {
     "name": "stderr",
     "output_type": "stream",
     "text": [
      "                                                        \r"
     ]
    },
    {
     "name": "stdout",
     "output_type": "stream",
     "text": [
      "|             7 |          5600 |        0.6852 |        0.6842 |          0:12 |\n"
     ]
    },
    {
     "name": "stderr",
     "output_type": "stream",
     "text": [
      "                                                              \r"
     ]
    },
    {
     "name": "stdout",
     "output_type": "stream",
     "text": [
      "| *           8 |          6400 |        0.6799 |        0.6966 |          0:14 |\n"
     ]
    },
    {
     "name": "stderr",
     "output_type": "stream",
     "text": [
      "                                                        \r"
     ]
    },
    {
     "name": "stdout",
     "output_type": "stream",
     "text": [
      "|             9 |          7200 |        0.6806 |        0.6792 |          0:15 |\n"
     ]
    },
    {
     "name": "stderr",
     "output_type": "stream",
     "text": [
      "                                                         \r"
     ]
    },
    {
     "name": "stdout",
     "output_type": "stream",
     "text": [
      "| *          10 |          8000 |        0.6773 |        0.6857 |          0:17 |\n"
     ]
    },
    {
     "name": "stderr",
     "output_type": "stream",
     "text": [
      "                                                         \r"
     ]
    },
    {
     "name": "stdout",
     "output_type": "stream",
     "text": [
      "| **         11 |          8800 |        0.6737 |        0.6823 |          0:19 |\n"
     ]
    },
    {
     "name": "stderr",
     "output_type": "stream",
     "text": [
      "                                                         \r"
     ]
    },
    {
     "name": "stdout",
     "output_type": "stream",
     "text": [
      "|            12 |          9600 |        0.6737 |        0.6778 |          0:20 |\n"
     ]
    },
    {
     "name": "stderr",
     "output_type": "stream",
     "text": [
      "                                                         \r"
     ]
    },
    {
     "name": "stdout",
     "output_type": "stream",
     "text": [
      "| *          13 |         10400 |        0.6665 |        0.6809 |          0:22 |\n"
     ]
    },
    {
     "name": "stderr",
     "output_type": "stream",
     "text": [
      "                                                         \r"
     ]
    },
    {
     "name": "stdout",
     "output_type": "stream",
     "text": [
      "| **         14 |         11200 |        0.6648 |        0.6843 |          0:24 |\n"
     ]
    },
    {
     "name": "stderr",
     "output_type": "stream",
     "text": [
      "                                                         \r"
     ]
    },
    {
     "name": "stdout",
     "output_type": "stream",
     "text": [
      "| ***        15 |         12000 |        0.6594 |        0.6984 |          0:25 |\n"
     ]
    },
    {
     "name": "stderr",
     "output_type": "stream",
     "text": [
      "                                                         \r"
     ]
    },
    {
     "name": "stdout",
     "output_type": "stream",
     "text": [
      "| ****       16 |         12800 |        0.6509 |        0.7131 |          0:27 |\n"
     ]
    },
    {
     "name": "stderr",
     "output_type": "stream",
     "text": [
      "                                                         \r"
     ]
    },
    {
     "name": "stdout",
     "output_type": "stream",
     "text": [
      "| *****      17 |         13600 |        0.6648 |        0.6802 |          0:28 |\n",
      "+---------------+---------------+---------------+---------------+---------------+\n",
      "\n",
      "Halting training - 5 epochs without improvement\n",
      "\n",
      "Training took 0m 28s (1.0s per epoch)\n",
      "\n",
      "Best model from session saved to './models\\LeNet-2_2904-0237.pt'\n",
      "\n",
      "Testing class accuracy...\n"
     ]
    },
    {
     "name": "stderr",
     "output_type": "stream",
     "text": [
      "                                                  "
     ]
    },
    {
     "name": "stdout",
     "output_type": "stream",
     "text": [
      "\n",
      "Confusion matrix (col: pred, row: actual/label):\n",
      "          0          1\n",
      "0    [       69][       31]\n",
      "1    [       51][       49]\n",
      "\n",
      "Accuracy per class:\n",
      "Class 0: 69.00%\n",
      "Class 1: 49.00%\n"
     ]
    },
    {
     "name": "stderr",
     "output_type": "stream",
     "text": [
      "\r"
     ]
    }
   ],
   "source": [
    "model = train_model(\n",
    "    model=LeNet(2, in_channels=3), \n",
    "\n",
    "    train_set=train_set,\n",
    "    val_set=val_set,\n",
    "    image_resize=40,\n",
    "    aug_transform=get_augs(),\n",
    "    optim_fn=torch.optim.Adam,\n",
    "    learning_rate=0.0001,\n",
    "\n",
    "    patience=5,\n",
    "    max_epochs=30,\n",
    "    \n",
    "    model_save_dir='./models')"
   ]
  },
  {
   "attachments": {},
   "cell_type": "markdown",
   "metadata": {},
   "source": [
    "## 4. Test model(s)"
   ]
  },
  {
   "cell_type": "code",
   "execution_count": null,
   "metadata": {},
   "outputs": [],
   "source": [
    "tests.confusion_matrix(model, val_set, image_resize=40)"
   ]
  }
 ],
 "metadata": {
  "kernelspec": {
   "display_name": "fyp",
   "language": "python",
   "name": "python3"
  },
  "language_info": {
   "codemirror_mode": {
    "name": "ipython",
    "version": 3
   },
   "file_extension": ".py",
   "mimetype": "text/x-python",
   "name": "python",
   "nbconvert_exporter": "python",
   "pygments_lexer": "ipython3",
   "version": "3.10.10"
  },
  "orig_nbformat": 4
 },
 "nbformat": 4,
 "nbformat_minor": 2
}
